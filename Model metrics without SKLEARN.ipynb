{
  "nbformat": 4,
  "nbformat_minor": 0,
  "metadata": {
    "colab": {
      "name": "Copy of 5_Performance_metrics_Instructions.ipynb",
      "provenance": [],
      "collapsed_sections": []
    },
    "language_info": {
      "codemirror_mode": {
        "name": "ipython",
        "version": 3
      },
      "file_extension": ".py",
      "mimetype": "text/x-python",
      "name": "python",
      "nbconvert_exporter": "python",
      "pygments_lexer": "ipython3",
      "version": "3.6.8"
    },
    "kernelspec": {
      "display_name": "Python 3",
      "language": "python",
      "name": "python3"
    }
  },
  "cells": [
    {
      "cell_type": "markdown",
      "metadata": {
        "id": "s0Ej_bXyQvnV"
      },
      "source": [
        "# Compute performance metrics for the given Y and Y_score without sklearn"
      ]
    },
    {
      "cell_type": "code",
      "metadata": {
        "id": "4CHb6NE7Qvnc"
      },
      "source": [
        "import numpy as np\n",
        "import pandas as pd\n",
        "# other than these two you should not import any other packages"
      ],
      "execution_count": 2,
      "outputs": []
    },
    {
      "cell_type": "markdown",
      "metadata": {
        "id": "KbsWXuDaQvnq"
      },
      "source": [
        "<pre>\n",
        "<font color='red'><b>A.</b></font> Compute performance metrics for the given data <strong>5_a.csv</strong>\n",
        "   <b>Note 1:</b> in this data you can see number of positive points >> number of negatives points\n",
        "   <b>Note 2:</b> use pandas or numpy to read the data from <b>5_a.csv</b>\n",
        "   <b>Note 3:</b> you need to derive the class labels from given score</pre> $y^{pred}= \\text{[0 if y_score < 0.5 else 1]}$\n",
        "\n",
        "<pre>\n",
        "<ol>\n",
        "<li> Compute Confusion Matrix </li>\n",
        "<li> Compute F1 Score </li>\n",
        "<li> Compute AUC Score, you need to compute different thresholds and for each threshold compute tpr,fpr and then use               numpy.trapz(tpr_array, fpr_array) <a href='https://stackoverflow.com/q/53603376/4084039'>https://stackoverflow.com/q/53603376/4084039</a>, <a href='https://stackoverflow.com/a/39678975/4084039'>https://stackoverflow.com/a/39678975/4084039</a> Note: it should be numpy.trapz(tpr_array, fpr_array) not numpy.trapz(fpr_array, tpr_array)</li>\n",
        "<li> Compute Accuracy Score </li>\n",
        "</ol>\n",
        "</pre>"
      ]
    },
    {
      "cell_type": "code",
      "metadata": {
        "id": "WaFLW7oBQvnt"
      },
      "source": [
        "# write your code here\n",
        "dataset_A=pd.read_csv(\"/content/5_a.csv\")"
      ],
      "execution_count": null,
      "outputs": []
    },
    {
      "cell_type": "code",
      "metadata": {
        "colab": {
          "base_uri": "https://localhost:8080/",
          "height": 204
        },
        "id": "r1G6G_avbqHv",
        "outputId": "5b48efd8-5559-4ee1-898d-81d006ea7df9"
      },
      "source": [
        "dataset_A.head()"
      ],
      "execution_count": null,
      "outputs": [
        {
          "output_type": "execute_result",
          "data": {
            "text/html": [
              "<div>\n",
              "<style scoped>\n",
              "    .dataframe tbody tr th:only-of-type {\n",
              "        vertical-align: middle;\n",
              "    }\n",
              "\n",
              "    .dataframe tbody tr th {\n",
              "        vertical-align: top;\n",
              "    }\n",
              "\n",
              "    .dataframe thead th {\n",
              "        text-align: right;\n",
              "    }\n",
              "</style>\n",
              "<table border=\"1\" class=\"dataframe\">\n",
              "  <thead>\n",
              "    <tr style=\"text-align: right;\">\n",
              "      <th></th>\n",
              "      <th>y</th>\n",
              "      <th>proba</th>\n",
              "    </tr>\n",
              "  </thead>\n",
              "  <tbody>\n",
              "    <tr>\n",
              "      <th>0</th>\n",
              "      <td>1.0</td>\n",
              "      <td>0.637387</td>\n",
              "    </tr>\n",
              "    <tr>\n",
              "      <th>1</th>\n",
              "      <td>1.0</td>\n",
              "      <td>0.635165</td>\n",
              "    </tr>\n",
              "    <tr>\n",
              "      <th>2</th>\n",
              "      <td>1.0</td>\n",
              "      <td>0.766586</td>\n",
              "    </tr>\n",
              "    <tr>\n",
              "      <th>3</th>\n",
              "      <td>1.0</td>\n",
              "      <td>0.724564</td>\n",
              "    </tr>\n",
              "    <tr>\n",
              "      <th>4</th>\n",
              "      <td>1.0</td>\n",
              "      <td>0.889199</td>\n",
              "    </tr>\n",
              "  </tbody>\n",
              "</table>\n",
              "</div>"
            ],
            "text/plain": [
              "     y     proba\n",
              "0  1.0  0.637387\n",
              "1  1.0  0.635165\n",
              "2  1.0  0.766586\n",
              "3  1.0  0.724564\n",
              "4  1.0  0.889199"
            ]
          },
          "metadata": {
            "tags": []
          },
          "execution_count": 109
        }
      ]
    },
    {
      "cell_type": "code",
      "metadata": {
        "id": "0CA5HN8RaqUl"
      },
      "source": [
        "#Let's create a third column for y_pred\n",
        "dataset_A[\"y_hat\"]=dataset_A[\"proba\"].apply( lambda x: 1 if x>0.5 else 0 )"
      ],
      "execution_count": null,
      "outputs": []
    },
    {
      "cell_type": "code",
      "metadata": {
        "colab": {
          "base_uri": "https://localhost:8080/"
        },
        "id": "wMZWs-oiDCYn",
        "outputId": "52fdfb4e-b544-4cfe-964d-5e4f26677c03"
      },
      "source": [
        "dataset_A.columns"
      ],
      "execution_count": null,
      "outputs": [
        {
          "output_type": "execute_result",
          "data": {
            "text/plain": [
              "Index(['y', 'proba', 'y_hat'], dtype='object')"
            ]
          },
          "metadata": {
            "tags": []
          },
          "execution_count": 111
        }
      ]
    },
    {
      "cell_type": "code",
      "metadata": {
        "colab": {
          "base_uri": "https://localhost:8080/"
        },
        "id": "ZlPJRYabQ0nb",
        "outputId": "8725cdf2-b22e-4184-827c-2644157ddb43"
      },
      "source": [
        "dataset_A.iloc[:,2].sum()"
      ],
      "execution_count": null,
      "outputs": [
        {
          "output_type": "execute_result",
          "data": {
            "text/plain": [
              "10100"
            ]
          },
          "metadata": {
            "tags": []
          },
          "execution_count": 112
        }
      ]
    },
    {
      "cell_type": "code",
      "metadata": {
        "id": "6IpzM76hfLAi"
      },
      "source": [
        "#Let's create a function called for confusion matrix\n",
        "def metrics(dataset):\n",
        "  TP=TN=FP=FN=0\n",
        "  TP = ((dataset.iloc[:,0]==1.0) & (dataset.iloc[:,2] == 1.0)).sum()  \n",
        "  TN = ((dataset.iloc[:,0]==0.0) & (dataset.iloc[:,2] == 0.0)).sum()\n",
        "  FP = ((dataset.iloc[:,0]==0.0) & (dataset.iloc[:,2] == 1.0)).sum()\n",
        "  FN = ((dataset.iloc[:,0]==1.0) & (dataset.iloc[:,2] == 0.0)).sum()\n",
        "\n",
        "  confusion_matrix=[[TP,FP],[FN,TN]]\n",
        "  precision=TP/(TP+FP)\n",
        "  recall=TP/(TP+FN)\n",
        "  FPR=(FP)/(FP+TN)\n",
        "  Accuracy=(TP+TN)/(TP+FP+FN+TN)\n",
        "  return  confusion_matrix,precision,recall,Accuracy,FPR"
      ],
      "execution_count": null,
      "outputs": []
    },
    {
      "cell_type": "code",
      "metadata": {
        "id": "rxSxVq6BAw8a"
      },
      "source": [
        "ConfusionMat,Pre,Re,Acc,FPR=metrics(dataset_A)"
      ],
      "execution_count": null,
      "outputs": []
    },
    {
      "cell_type": "code",
      "metadata": {
        "colab": {
          "base_uri": "https://localhost:8080/"
        },
        "id": "mfD2HcyHCLZh",
        "outputId": "d056faa0-e951-4c19-ebe9-7bae3fe4275d"
      },
      "source": [
        "#1.Confusion Matrix \n",
        "print(ConfusionMat)"
      ],
      "execution_count": null,
      "outputs": [
        {
          "output_type": "stream",
          "text": [
            "[[10000, 100], [0, 0]]\n"
          ],
          "name": "stdout"
        }
      ]
    },
    {
      "cell_type": "code",
      "metadata": {
        "colab": {
          "base_uri": "https://localhost:8080/"
        },
        "id": "Kz4-0luZCd5P",
        "outputId": "1bf492e7-035c-4378-bf93-a7809aca6371"
      },
      "source": [
        "#2.F-1 Score\n",
        "print((2*Pre*Re)/(Pre+Re))"
      ],
      "execution_count": null,
      "outputs": [
        {
          "output_type": "stream",
          "text": [
            "0.9950248756218906\n"
          ],
          "name": "stdout"
        }
      ]
    },
    {
      "cell_type": "code",
      "metadata": {
        "colab": {
          "base_uri": "https://localhost:8080/"
        },
        "id": "-5Uo51WSCwwv",
        "outputId": "c6e16a68-4898-4098-f55b-6b0a26dd1399"
      },
      "source": [
        "#4.Accuracy\n",
        "print(Acc)"
      ],
      "execution_count": null,
      "outputs": [
        {
          "output_type": "stream",
          "text": [
            "0.9900990099009901\n"
          ],
          "name": "stdout"
        }
      ]
    },
    {
      "cell_type": "code",
      "metadata": {
        "id": "1m_F_wd9C5O-"
      },
      "source": [
        "dataset_A.drop(['y_hat'],axis=1,inplace=True)"
      ],
      "execution_count": null,
      "outputs": []
    },
    {
      "cell_type": "code",
      "metadata": {
        "id": "72-EJpJwuIUH"
      },
      "source": [
        "from tqdm import tqdm"
      ],
      "execution_count": 5,
      "outputs": []
    },
    {
      "cell_type": "code",
      "metadata": {
        "id": "yjWzixpPr8U-"
      },
      "source": [
        "def AUC_Score(dataset):\n",
        "  dataset.sort_values(by=dataset.columns[1], axis=0, ascending=False, inplace=True)\n",
        "  TPR_Array=[]\n",
        "  FPR_Array=[]\n",
        "  for threshold in tqdm(dataset.iloc[:,1].unique()):\n",
        "       dataset['y_hat'] =np.where( dataset.iloc[:,1] >=threshold,1,0) \n",
        "       confusion_matrix,precision,recall,Accuracy,FPR= metrics(dataset)\n",
        "       TPR_Array.append(recall)\n",
        "       FPR_Array.append(FPR)\n",
        "       dataset.drop([\"y_hat\"],axis=1,inplace=True) \n",
        "  return np.trapz(TPR_Array,FPR_Array)     "
      ],
      "execution_count": null,
      "outputs": []
    },
    {
      "cell_type": "code",
      "metadata": {
        "colab": {
          "base_uri": "https://localhost:8080/"
        },
        "id": "f_i__IfGXkZW",
        "outputId": "1fe5db8f-0656-45ee-ca28-e74553a3d2e2"
      },
      "source": [
        "AUC_Score(dataset_A)"
      ],
      "execution_count": null,
      "outputs": [
        {
          "output_type": "stream",
          "text": [
            "100%|██████████| 10100/10100 [01:08<00:00, 147.61it/s]\n"
          ],
          "name": "stderr"
        },
        {
          "output_type": "execute_result",
          "data": {
            "text/plain": [
              "0.48829900000000004"
            ]
          },
          "metadata": {
            "tags": []
          },
          "execution_count": 135
        }
      ]
    },
    {
      "cell_type": "markdown",
      "metadata": {
        "id": "V5KZem1BQvn2"
      },
      "source": [
        "<pre>\n",
        "<font color='red'><b>B.</b></font> Compute performance metrics for the given data <strong>5_b.csv</strong>\n",
        "   <b>Note 1:</b> in this data you can see number of positive points << number of negatives points\n",
        "   <b>Note 2:</b> use pandas or numpy to read the data from <b>5_b.csv</b>\n",
        "   <b>Note 3:</b> you need to derive the class labels from given score</pre> $y^{pred}= \\text{[0 if y_score < 0.5 else 1]}$\n",
        "\n",
        "<pre>\n",
        "<ol>\n",
        "<li> Compute Confusion Matrix </li>\n",
        "<li> Compute F1 Score </li>\n",
        "<li> Compute AUC Score, you need to compute different thresholds and for each threshold compute tpr,fpr and then use               numpy.trapz(tpr_array, fpr_array) <a href='https://stackoverflow.com/q/53603376/4084039'>https://stackoverflow.com/q/53603376/4084039</a>, <a href='https://stackoverflow.com/a/39678975/4084039'>https://stackoverflow.com/a/39678975/4084039</a></li>\n",
        "<li> Compute Accuracy Score </li>\n",
        "</ol>\n",
        "</pre>"
      ]
    },
    {
      "cell_type": "code",
      "metadata": {
        "id": "U2sKlq0YQvn5"
      },
      "source": [
        "# write your code\n",
        "dataset_B=pd.read_csv(\"/content/5_b.csv\")"
      ],
      "execution_count": null,
      "outputs": []
    },
    {
      "cell_type": "code",
      "metadata": {
        "id": "RkF4y_pmNVp_"
      },
      "source": [
        "dataset_B[\"y_hat\"]=dataset_B[\"proba\"].apply( lambda x: 1 if x>0.5 else 0 )"
      ],
      "execution_count": null,
      "outputs": []
    },
    {
      "cell_type": "code",
      "metadata": {
        "id": "z9cNtCjeNwY4"
      },
      "source": [
        "ConfusionMat,Pre,Re,Acc,FPR=metrics(dataset_B)"
      ],
      "execution_count": null,
      "outputs": []
    },
    {
      "cell_type": "code",
      "metadata": {
        "colab": {
          "base_uri": "https://localhost:8080/"
        },
        "id": "Jfi85m3lOxLv",
        "outputId": "1d11a5cc-6508-48b7-f8ed-e53f3a6233bf"
      },
      "source": [
        "#ConfusionMatrix\n",
        "print(ConfusionMat)"
      ],
      "execution_count": null,
      "outputs": [
        {
          "output_type": "stream",
          "text": [
            "[[55, 239], [45, 9761]]\n"
          ],
          "name": "stdout"
        }
      ]
    },
    {
      "cell_type": "code",
      "metadata": {
        "colab": {
          "base_uri": "https://localhost:8080/"
        },
        "id": "48aWs0tmO8_G",
        "outputId": "d361a3b4-29ec-4de3-a172-edf28d14c880"
      },
      "source": [
        "#F-1 Score\n",
        "print((2*Pre*Re)/(Pre+Re))"
      ],
      "execution_count": null,
      "outputs": [
        {
          "output_type": "stream",
          "text": [
            "0.2791878172588833\n"
          ],
          "name": "stdout"
        }
      ]
    },
    {
      "cell_type": "code",
      "metadata": {
        "colab": {
          "base_uri": "https://localhost:8080/"
        },
        "id": "8EvgpEwmPHhM",
        "outputId": "3fb4e55d-4246-4e6d-a78b-3275c420ed12"
      },
      "source": [
        "#Accuracy\n",
        "print(Acc)"
      ],
      "execution_count": null,
      "outputs": [
        {
          "output_type": "stream",
          "text": [
            "0.9718811881188119\n"
          ],
          "name": "stdout"
        }
      ]
    },
    {
      "cell_type": "code",
      "metadata": {
        "id": "w8_qdjh1Sx6c"
      },
      "source": [
        "dataset_B.drop(['y_hat'],axis=1,inplace=True)"
      ],
      "execution_count": null,
      "outputs": []
    },
    {
      "cell_type": "code",
      "metadata": {
        "colab": {
          "base_uri": "https://localhost:8080/"
        },
        "id": "4isseQwNX0lW",
        "outputId": "541a1bc0-dbcd-472b-c1da-11d49ca4c73a"
      },
      "source": [
        "#AUC_Score\n",
        "AUC_Score(dataset_B)"
      ],
      "execution_count": null,
      "outputs": [
        {
          "output_type": "stream",
          "text": [
            "100%|██████████| 10100/10100 [01:08<00:00, 146.84it/s]\n"
          ],
          "name": "stderr"
        },
        {
          "output_type": "execute_result",
          "data": {
            "text/plain": [
              "0.9377570000000001"
            ]
          },
          "metadata": {
            "tags": []
          },
          "execution_count": 136
        }
      ]
    },
    {
      "cell_type": "markdown",
      "metadata": {
        "id": "GiPGonTzQvoB"
      },
      "source": [
        "<font color='red'><b>C.</b></font> Compute the best threshold (similarly to ROC curve computation) of probability which gives lowest values of metric <b>A</b> for the given data <strong>5_c.csv</strong>\n",
        "<br>\n",
        "\n",
        "you will be predicting label of a data points like this: $y^{pred}= \\text{[0 if y_score < threshold  else 1]}$\n",
        "\n",
        "$ A = 500 \\times \\text{number of false negative} + 100 \\times \\text{numebr of false positive}$\n",
        "\n",
        "<pre>\n",
        "   <b>Note 1:</b> in this data you can see number of negative points > number of positive points\n",
        "   <b>Note 2:</b> use pandas or numpy to read the data from <b>5_c.csv</b>\n",
        "</pre>"
      ]
    },
    {
      "cell_type": "code",
      "metadata": {
        "id": "x5HIJzq1QvoE"
      },
      "source": [
        " # write your code\n",
        " dataset_C=pd.read_csv(\"/content/5_c.csv\")"
      ],
      "execution_count": 3,
      "outputs": []
    },
    {
      "cell_type": "code",
      "metadata": {
        "colab": {
          "base_uri": "https://localhost:8080/"
        },
        "id": "9uAtDdUZaITo",
        "outputId": "1c595aed-8c70-4d49-91c6-04b8e72f1ff5"
      },
      "source": [
        "dataset_C.sort_values(by=dataset_C.columns[1], axis=0, ascending=False, inplace=True)\n",
        "lowestnumber=0\n",
        "lowestvalueyielding_threshold=0 \n",
        "for threshold in tqdm(dataset_C.iloc[:,1].unique()):\n",
        "   dataset_C['y_hat'] =np.where( dataset_C.iloc[:,1] >=threshold,0,1) \n",
        "   FP = ((dataset_C.iloc[:,0]==0.0) & (dataset_C.iloc[:,2] == 1.0)).sum()\n",
        "   FN = ((dataset_C.iloc[:,0]==1.0) & (dataset_C.iloc[:,2] == 0.0)).sum()\n",
        "   if lowestnumber<(500*FN+100*FP):\n",
        "      lowestnumber=(500*FN+100*FP)\n",
        "      lowestvalueyielding_threshold=threshold\n",
        "   dataset_C.drop([\"y_hat\"],axis=1,inplace=True)\n"
      ],
      "execution_count": 13,
      "outputs": [
        {
          "output_type": "stream",
          "text": [
            "100%|██████████| 2791/2791 [00:09<00:00, 308.39it/s]\n"
          ],
          "name": "stderr"
        }
      ]
    },
    {
      "cell_type": "code",
      "metadata": {
        "colab": {
          "base_uri": "https://localhost:8080/"
        },
        "id": "YOdLTEzAdEqT",
        "outputId": "5ce4123e-8971-426e-8e5b-1b63c2d7f79c"
      },
      "source": [
        "print(\"Threshold at which the equation attains minimum is\",lowestvalueyielding_threshold)"
      ],
      "execution_count": 14,
      "outputs": [
        {
          "output_type": "stream",
          "text": [
            "Threshold at which the equation attains minimum is 0.2300390278970873\n"
          ],
          "name": "stdout"
        }
      ]
    },
    {
      "cell_type": "markdown",
      "metadata": {
        "id": "sD4CcgjXQvoL"
      },
      "source": [
        "<pre>\n",
        "<font color='red'><b>D.</b></font> Compute performance metrics(for regression) for the given data <strong>5_d.csv</strong>\n",
        "    <b>Note 2:</b> use pandas or numpy to read the data from <b>5_d.csv</b>\n",
        "    <b>Note 1:</b> <b>5_d.csv</b> will having two columns Y and predicted_Y both are real valued features\n",
        "<ol>\n",
        "<li> Compute Mean Square Error </li>\n",
        "<li> Compute MAPE: https://www.youtube.com/watch?v=ly6ztgIkUxk</li>\n",
        "<li> Compute R^2 error: https://en.wikipedia.org/wiki/Coefficient_of_determination#Definitions </li>\n",
        "</ol>\n",
        "</pre>"
      ]
    },
    {
      "cell_type": "code",
      "metadata": {
        "id": "zF6I8bXsgrq_"
      },
      "source": [
        "dataset_D=pd.read_csv(\"/content/5_d.csv\")"
      ],
      "execution_count": null,
      "outputs": []
    },
    {
      "cell_type": "code",
      "metadata": {
        "colab": {
          "base_uri": "https://localhost:8080/"
        },
        "id": "EefyMlvInlnE",
        "outputId": "a0c66b4f-fa8c-4a99-aa2c-068da2c07e36"
      },
      "source": [
        "dataset_D.columns"
      ],
      "execution_count": null,
      "outputs": [
        {
          "output_type": "execute_result",
          "data": {
            "text/plain": [
              "Index(['y', 'pred'], dtype='object')"
            ]
          },
          "metadata": {
            "tags": []
          },
          "execution_count": 179
        }
      ]
    },
    {
      "cell_type": "code",
      "metadata": {
        "id": "7V6H_O1-hM5u"
      },
      "source": [
        "dataset_D[\"Sq_Diff\"]=(dataset_D[\"y\"]-dataset_D[\"pred\"])**2/(len(dataset_D))"
      ],
      "execution_count": null,
      "outputs": []
    },
    {
      "cell_type": "code",
      "metadata": {
        "colab": {
          "base_uri": "https://localhost:8080/"
        },
        "id": "qmxGrY1evdqN",
        "outputId": "c4efce2b-41ce-4119-8475-873d071535f8"
      },
      "source": [
        "#1.Mean Square Error\n",
        "np.sum(dataset_D[\"Sq_Diff\"])"
      ],
      "execution_count": null,
      "outputs": [
        {
          "output_type": "execute_result",
          "data": {
            "text/plain": [
              "177.16569974554702"
            ]
          },
          "metadata": {
            "tags": []
          },
          "execution_count": 181
        }
      ]
    },
    {
      "cell_type": "code",
      "metadata": {
        "id": "t65uomfsIL_Z"
      },
      "source": [
        "#2.MAPE\n",
        "dataset_D[\"abs_Diff\"]=abs(dataset_D[\"y\"]-dataset_D[\"pred\"])/(np.sum(dataset_D[\"y\"]))"
      ],
      "execution_count": null,
      "outputs": []
    },
    {
      "cell_type": "code",
      "metadata": {
        "colab": {
          "base_uri": "https://localhost:8080/"
        },
        "id": "B3_dHVlqJJK5",
        "outputId": "baeaf5dc-48c6-446b-f470-325d72a1fd7c"
      },
      "source": [
        "np.sum(dataset_D[\"abs_Diff\"])"
      ],
      "execution_count": null,
      "outputs": [
        {
          "output_type": "execute_result",
          "data": {
            "text/plain": [
              "0.12912029940096875"
            ]
          },
          "metadata": {
            "tags": []
          },
          "execution_count": 191
        }
      ]
    },
    {
      "cell_type": "code",
      "metadata": {
        "id": "EBoRDXUpJWjB"
      },
      "source": [
        "#3.R^2\n",
        "dataset_D[\"SST\"]=(dataset_D[\"pred\"]-np.mean(dataset_D[\"y\"]))**2/(len(dataset_D))"
      ],
      "execution_count": null,
      "outputs": []
    },
    {
      "cell_type": "code",
      "metadata": {
        "colab": {
          "base_uri": "https://localhost:8080/"
        },
        "id": "ijBtChzVMxXt",
        "outputId": "f30ba4ca-992e-4101-a78d-35fca30ad484"
      },
      "source": [
        "print(\"R^2 is\",1-((np.sum(dataset_D[\"Sq_Diff\"]))/(np.sum(dataset_D[\"SST\"]))))"
      ],
      "execution_count": null,
      "outputs": [
        {
          "output_type": "stream",
          "text": [
            "R^2 is 0.9999667760476615\n"
          ],
          "name": "stdout"
        }
      ]
    },
    {
      "cell_type": "code",
      "metadata": {
        "id": "wY4om8RWOc8t"
      },
      "source": [
        ""
      ],
      "execution_count": null,
      "outputs": []
    }
  ]
}